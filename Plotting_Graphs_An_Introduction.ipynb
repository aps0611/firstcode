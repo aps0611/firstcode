{
  "nbformat": 4,
  "nbformat_minor": 0,
  "metadata": {
    "colab": {
      "name": "Plotting Graphs: An Introduction.ipynb",
      "provenance": [],
      "collapsed_sections": [],
      "include_colab_link": true
    },
    "kernelspec": {
      "name": "python3",
      "display_name": "Python 3"
    },
    "language_info": {
      "name": "python"
    }
  },
  "cells": [
    {
      "cell_type": "markdown",
      "metadata": {
        "id": "view-in-github",
        "colab_type": "text"
      },
      "source": [
        "<a href=\"https://colab.research.google.com/github/meta-sapien/firstcode/blob/main/Plotting_Graphs_An_Introduction.ipynb\" target=\"_parent\"><img src=\"https://colab.research.google.com/assets/colab-badge.svg\" alt=\"Open In Colab\"/></a>"
      ]
    },
    {
      "cell_type": "markdown",
      "metadata": {
        "id": "3bex2LheeCjv"
      },
      "source": [
        "To plot a function $f(x)$ programatically, we first need to get a list of values for $x$, and then apply the function on each of these values. This will give us two lists of values, say `x_val` and `y_val`. We can then use the library `matplotlib` to plot the function. To demonstrate this, let us take a simple function, say $f(x) = x^2$."
      ]
    },
    {
      "cell_type": "code",
      "metadata": {
        "id": "Fb16NjRUglTj"
      },
      "source": [
        "# Populate the lists x_val and y_val\n",
        "\n",
        "def f(x):\n",
        "    return x ** 2\n",
        "\n",
        "x_val = [ ]\n",
        "y_val = [ ]\n",
        "for x in range(-5, 5):\n",
        "    x_val.append(x)\n",
        "    y_val.append(f(x))"
      ],
      "execution_count": null,
      "outputs": []
    },
    {
      "cell_type": "markdown",
      "metadata": {
        "id": "VzlIhLeajcXL"
      },
      "source": [
        "It is now time to plot. It is as simple as this:"
      ]
    },
    {
      "cell_type": "code",
      "metadata": {
        "id": "BBaI9B_TGUx6",
        "colab": {
          "base_uri": "https://localhost:8080/",
          "height": 283
        },
        "outputId": "fdf2caf9-e248-4e05-886a-238d53fc772f"
      },
      "source": [
        "import matplotlib.pyplot as plt\n",
        "plt.plot(x_val, y_val)"
      ],
      "execution_count": null,
      "outputs": [
        {
          "output_type": "execute_result",
          "data": {
            "text/plain": [
              "[<matplotlib.lines.Line2D at 0x7f4c885f5f90>]"
            ]
          },
          "metadata": {},
          "execution_count": 6
        },
        {
          "output_type": "display_data",
          "data": {
            "image/png": "[encoded data removed]",
            "text/plain": [
              "<Figure size 432x288 with 1 Axes>"
            ]
          },
          "metadata": {
            "needs_background": "light"
          }
        }
      ]
    },
    {
      "cell_type": "markdown",
      "metadata": {
        "id": "sSVq_e6whAnX"
      },
      "source": [
        "The general shape seems to be alright, but the curve is quite rugged and not smooth. This is because the sample of points we have chosen for the x-coordinates are sparse. We need to sample more points that are closer to each other. We can write a piece of code for this without using any libraries. But we have reached a stage in the course where such limitations can be set aside, at least for the moment. The library `NumPy` comes to our rescue."
      ]
    },
    {
      "cell_type": "code",
      "metadata": {
        "colab": {
          "base_uri": "https://localhost:8080/",
          "height": 283
        },
        "id": "pA54ZA1chQVP",
        "outputId": "d6de63d8-251f-4573-9d4e-f6ba1d16628f"
      },
      "source": [
        "import numpy as np\n",
        "x_val = np.linspace(-5, 5, 50)\n",
        "y_val = x_val ** 2\n",
        "plt.plot(x_val, y_val)"
      ],
      "execution_count": null,
      "outputs": [
        {
          "output_type": "execute_result",
          "data": {
            "text/plain": [
              "[<matplotlib.lines.Line2D at 0x7f4c91d93690>]"
            ]
          },
          "metadata": {},
          "execution_count": 7
        },
        {
          "output_type": "display_data",
          "data": {
            "image/png": "[encoded data removed]",
            "text/plain": [
              "<Figure size 432x288 with 1 Axes>"
            ]
          },
          "metadata": {
            "needs_background": "light"
          }
        }
      ]
    },
    {
      "cell_type": "markdown",
      "metadata": {
        "id": "jVBOtPc7iAQd"
      },
      "source": [
        "Notice several interesting things here. First, the curve looks extremely smooth. Secondly, we didn't have to compute the value of the function at each element of `x_val`. Instead, we could just state that `y_val = x_val ** 2`, and this computed the function at all the positions in the object `x_val`.\n",
        "\n",
        "`x_val` is called a NumPy array. It is similar to a Python list and yet quite different. Let us print this entity and see what we get:"
      ]
    },
    {
      "cell_type": "code",
      "metadata": {
        "colab": {
          "base_uri": "https://localhost:8080/"
        },
        "id": "rY1LUqVSijZn",
        "outputId": "cf93ea64-77bb-4ddd-da59-d0cbf0c709bc"
      },
      "source": [
        "print(x_val)\n",
        "print(type(x_val))\n",
        "print(x_val.shape)"
      ],
      "execution_count": null,
      "outputs": [
        {
          "output_type": "stream",
          "name": "stdout",
          "text": [
            "[-5.         -4.79591837 -4.59183673 -4.3877551  -4.18367347 -3.97959184\n",
            " -3.7755102  -3.57142857 -3.36734694 -3.16326531 -2.95918367 -2.75510204\n",
            " -2.55102041 -2.34693878 -2.14285714 -1.93877551 -1.73469388 -1.53061224\n",
            " -1.32653061 -1.12244898 -0.91836735 -0.71428571 -0.51020408 -0.30612245\n",
            " -0.10204082  0.10204082  0.30612245  0.51020408  0.71428571  0.91836735\n",
            "  1.12244898  1.32653061  1.53061224  1.73469388  1.93877551  2.14285714\n",
            "  2.34693878  2.55102041  2.75510204  2.95918367  3.16326531  3.36734694\n",
            "  3.57142857  3.7755102   3.97959184  4.18367347  4.3877551   4.59183673\n",
            "  4.79591837  5.        ]\n",
            "<class 'numpy.ndarray'>\n",
            "(50,)\n"
          ]
        }
      ]
    },
    {
      "cell_type": "markdown",
      "metadata": {
        "id": "cfNg599Ziqvo"
      },
      "source": [
        "NumPy arrays support indexing and slicing operations, just like Python lists. `np.linspace(-5, 5, 50)` created an array of 50 equally spaced points in the range $[-5, 5]$.\n",
        "\n",
        "Let us now plot something more interesting, say $f(x) = \\sin x$."
      ]
    },
    {
      "cell_type": "code",
      "metadata": {
        "colab": {
          "base_uri": "https://localhost:8080/",
          "height": 283
        },
        "id": "VFzcSZO2j7NV",
        "outputId": "0dc78c35-6701-47bb-e457-c7b64773a706"
      },
      "source": [
        "x = np.linspace(-2 * np.pi, 2 * np.pi)\n",
        "y = np.sin(x)\n",
        "plt.plot(x, y)"
      ],
      "execution_count": null,
      "outputs": [
        {
          "output_type": "execute_result",
          "data": {
            "text/plain": [
              "[<matplotlib.lines.Line2D at 0x7f4c880b9190>]"
            ]
          },
          "metadata": {},
          "execution_count": 9
        },
        {
          "output_type": "display_data",
          "data": {
            "image/png": "[encoded data removed]",
            "text/plain": [
              "<Figure size 432x288 with 1 Axes>"
            ]
          },
          "metadata": {
            "needs_background": "light"
          }
        }
      ]
    },
    {
      "cell_type": "markdown",
      "metadata": {
        "id": "BOSVj0ylkHDk"
      },
      "source": [
        "Neat! Now, we shall move to a different type of plot - a scatter plot. Let us say that you have a collection of points in 2D space. As of now, you don't know the relation between $x$ and $y$. In such cases, it is best to go for a scatter plot."
      ]
    },
    {
      "cell_type": "code",
      "metadata": {
        "colab": {
          "base_uri": "https://localhost:8080/",
          "height": 283
        },
        "id": "j7nJmC9N3gbm",
        "outputId": "d0696d30-7269-4dbe-c1d0-4870580e6b1d"
      },
      "source": [
        "X = np.random.rand(40)\n",
        "Y = np.random.rand(40)\n",
        "plt.scatter(X, Y)"
      ],
      "execution_count": null,
      "outputs": [
        {
          "output_type": "execute_result",
          "data": {
            "text/plain": [
              "<matplotlib.collections.PathCollection at 0x7f4c877e4110>"
            ]
          },
          "metadata": {},
          "execution_count": 21
        },
        {
          "output_type": "display_data",
          "data": {
            "image/png": "[encoded data removed]",
            "text/plain": [
              "<Figure size 432x288 with 1 Axes>"
            ]
          },
          "metadata": {
            "needs_background": "light"
          }
        }
      ]
    },
    {
      "cell_type": "markdown",
      "metadata": {
        "id": "ND1lFUyL4Wf-"
      },
      "source": [
        "Next, we shall look at a bar graph. Let us say you have the following list `freq = [10, 20, 5, 30, 50]`. `freq[0]` denotes the number of students who have scored in the range $[0, 20]$ in an exam, `freq[1]` points to the number of students in the range $[20, 40]$ and so on. A bar graph can be used to visualize this data:"
      ]
    },
    {
      "cell_type": "code",
      "metadata": {
        "colab": {
          "base_uri": "https://localhost:8080/",
          "height": 283
        },
        "id": "fO3jAenu436a",
        "outputId": "4d728d96-924b-4edd-8c03-95e0269ccbe5"
      },
      "source": [
        "bins = ['0 - 20', '20 - 40', '40 - 60', '60 - 80', '80 - 100']\n",
        "freq = [10, 20, 5, 30, 50]\n",
        "plt.bar(bins, freq)"
      ],
      "execution_count": null,
      "outputs": [
        {
          "output_type": "execute_result",
          "data": {
            "text/plain": [
              "<BarContainer object of 5 artists>"
            ]
          },
          "metadata": {},
          "execution_count": 23
        },
        {
          "output_type": "display_data",
          "data": {
            "image/png": "[encoded data removed]",
            "text/plain": [
              "<Figure size 432x288 with 1 Axes>"
            ]
          },
          "metadata": {
            "needs_background": "light"
          }
        }
      ]
    }
  ]
}